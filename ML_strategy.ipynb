{
 "cells": [
  {
   "cell_type": "markdown",
   "metadata": {},
   "source": [
    "# LGB_1 creation"
   ]
  },
  {
   "cell_type": "markdown",
   "metadata": {},
   "source": [
    "Most of this is set up so that multiple models can be run. All of the\n",
    "calculations are looped over model names. Each relevant dataframe is loaded\n",
    "into a dictionary, accessed by model name. We run it just for\n",
    "the model lgb_1"
   ]
  },
  {
   "cell_type": "markdown",
   "metadata": {},
   "source": [
    "## Packages & Preamble"
   ]
  },
  {
   "cell_type": "code",
   "execution_count": 1,
   "metadata": {},
   "outputs": [
    {
     "name": "stderr",
     "output_type": "stream",
     "text": [
      "/usr/local/Caskroom/miniconda/base/envs/tdasp500/lib/python3.9/site-packages/tqdm/auto.py:22: TqdmWarning: IProgress not found. Please update jupyter and ipywidgets. See https://ipywidgets.readthedocs.io/en/stable/user_install.html\n",
      "  from .autonotebook import tqdm as notebook_tqdm\n",
      "/usr/local/Caskroom/miniconda/base/envs/tdasp500/lib/python3.9/site-packages/pyfolio/pos.py:25: UserWarning: Module \"zipline.assets\" not found; multipliers will not be applied to position notionals.\n",
      "  warnings.warn(\n"
     ]
    }
   ],
   "source": [
    "import numpy as np\n",
    "import pandas as pd\n",
    "from tqdm import tqdm\n",
    "import lightgbm as lgb\n",
    "import optuna\n",
    "from sklearn.preprocessing import OrdinalEncoder\n",
    "from return_utils import pos_to_return,collecting_stock_data_avg,collecting_stock_percentages, factors_to_pos\n",
    "import shap\n",
    "import empyrical\n",
    "\n",
    "import matplotlib.pyplot as plt\n",
    "from Stock_tda_calc import s_and_p\n"
   ]
  },
  {
   "cell_type": "code",
   "execution_count": 2,
   "metadata": {},
   "outputs": [],
   "source": [
    "%load_ext autoreload\n",
    "%autoreload 2"
   ]
  },
  {
   "cell_type": "markdown",
   "metadata": {},
   "source": [
    "Load the list of tickers: note that we remove all appearing post 2017 to avoid\n",
    "selection bias."
   ]
  },
  {
   "cell_type": "markdown",
   "metadata": {},
   "source": [
    "Collect stock close and returns"
   ]
  },
  {
   "cell_type": "code",
   "execution_count": 3,
   "metadata": {},
   "outputs": [],
   "source": [
    "stock_closes_df = collecting_stock_data_avg(tickers=s_and_p)\n",
    "stock_closes_df.index=pd.to_datetime(stock_closes_df.index.values,format='%Y-%m-%d')\n",
    "stock_volumes_df=collecting_stock_data_avg(tickers=s_and_p,value_name='Volume').mean(axis=1)\n",
    "stock_volumes_df.index=pd.to_datetime(stock_closes_df.index.values,format='%Y-%m-%d')\n",
    "stock_perc_df = collecting_stock_percentages(s_and_p)\n",
    "stock_perc_df.index=pd.to_datetime(stock_perc_df.index.values,format='%Y-%m-%d')\n",
    "stock_closes_rets_df=pd.concat([stock_closes_df,stock_perc_df],axis=1)"
   ]
  },
  {
   "cell_type": "markdown",
   "metadata": {},
   "source": [
    "Collect bnh returns only"
   ]
  },
  {
   "cell_type": "code",
   "execution_count": 4,
   "metadata": {},
   "outputs": [],
   "source": [
    "bnh_returns_df=stock_perc_df.mean(axis=1)"
   ]
  },
  {
   "cell_type": "markdown",
   "metadata": {},
   "source": [
    "# MACHINE LEARNING STRATEGY"
   ]
  },
  {
   "cell_type": "markdown",
   "metadata": {},
   "source": [
    "## Collect data"
   ]
  },
  {
   "cell_type": "markdown",
   "metadata": {},
   "source": [
    "These are the topological factors"
   ]
  },
  {
   "cell_type": "code",
   "execution_count": 5,
   "metadata": {},
   "outputs": [
    {
     "name": "stderr",
     "output_type": "stream",
     "text": [
      "\n",
      "A value is trying to be set on a copy of a slice from a DataFrame\n",
      "\n",
      "See the caveats in the documentation: https://pandas.pydata.org/pandas-docs/stable/user_guide/indexing.html#returning-a-view-versus-a-copy\n",
      "\n",
      "A value is trying to be set on a copy of a slice from a DataFrame\n",
      "\n",
      "See the caveats in the documentation: https://pandas.pydata.org/pandas-docs/stable/user_guide/indexing.html#returning-a-view-versus-a-copy\n",
      "\n",
      "A value is trying to be set on a copy of a slice from a DataFrame\n",
      "\n",
      "See the caveats in the documentation: https://pandas.pydata.org/pandas-docs/stable/user_guide/indexing.html#returning-a-view-versus-a-copy\n",
      "\n",
      "A value is trying to be set on a copy of a slice from a DataFrame\n",
      "\n",
      "See the caveats in the documentation: https://pandas.pydata.org/pandas-docs/stable/user_guide/indexing.html#returning-a-view-versus-a-copy\n",
      "\n",
      "A value is trying to be set on a copy of a slice from a DataFrame\n",
      "\n",
      "See the caveats in the documentation: https://pandas.pydata.org/pandas-docs/stable/user_guide/indexing.html#returning-a-view-versus-a-copy\n",
      "\n",
      "A value is trying to be set on a copy of a slice from a DataFrame\n",
      "\n",
      "See the caveats in the documentation: https://pandas.pydata.org/pandas-docs/stable/user_guide/indexing.html#returning-a-view-versus-a-copy\n",
      "\n",
      "A value is trying to be set on a copy of a slice from a DataFrame\n",
      "\n",
      "See the caveats in the documentation: https://pandas.pydata.org/pandas-docs/stable/user_guide/indexing.html#returning-a-view-versus-a-copy\n",
      "\n",
      "A value is trying to be set on a copy of a slice from a DataFrame\n",
      "\n",
      "See the caveats in the documentation: https://pandas.pydata.org/pandas-docs/stable/user_guide/indexing.html#returning-a-view-versus-a-copy\n",
      "\n",
      "A value is trying to be set on a copy of a slice from a DataFrame\n",
      "\n",
      "See the caveats in the documentation: https://pandas.pydata.org/pandas-docs/stable/user_guide/indexing.html#returning-a-view-versus-a-copy\n",
      "\n",
      "A value is trying to be set on a copy of a slice from a DataFrame\n",
      "\n",
      "See the caveats in the documentation: https://pandas.pydata.org/pandas-docs/stable/user_guide/indexing.html#returning-a-view-versus-a-copy\n",
      "\n",
      "A value is trying to be set on a copy of a slice from a DataFrame\n",
      "\n",
      "See the caveats in the documentation: https://pandas.pydata.org/pandas-docs/stable/user_guide/indexing.html#returning-a-view-versus-a-copy\n",
      "\n",
      "A value is trying to be set on a copy of a slice from a DataFrame\n",
      "\n",
      "See the caveats in the documentation: https://pandas.pydata.org/pandas-docs/stable/user_guide/indexing.html#returning-a-view-versus-a-copy\n",
      "\n",
      "A value is trying to be set on a copy of a slice from a DataFrame\n",
      "\n",
      "See the caveats in the documentation: https://pandas.pydata.org/pandas-docs/stable/user_guide/indexing.html#returning-a-view-versus-a-copy\n",
      "\n",
      "A value is trying to be set on a copy of a slice from a DataFrame\n",
      "\n",
      "See the caveats in the documentation: https://pandas.pydata.org/pandas-docs/stable/user_guide/indexing.html#returning-a-view-versus-a-copy\n",
      "\n",
      "A value is trying to be set on a copy of a slice from a DataFrame\n",
      "\n",
      "See the caveats in the documentation: https://pandas.pydata.org/pandas-docs/stable/user_guide/indexing.html#returning-a-view-versus-a-copy\n",
      "\n",
      "A value is trying to be set on a copy of a slice from a DataFrame\n",
      "\n",
      "See the caveats in the documentation: https://pandas.pydata.org/pandas-docs/stable/user_guide/indexing.html#returning-a-view-versus-a-copy\n",
      "\n",
      "A value is trying to be set on a copy of a slice from a DataFrame\n",
      "\n",
      "See the caveats in the documentation: https://pandas.pydata.org/pandas-docs/stable/user_guide/indexing.html#returning-a-view-versus-a-copy\n",
      "\n",
      "A value is trying to be set on a copy of a slice from a DataFrame\n",
      "\n",
      "See the caveats in the documentation: https://pandas.pydata.org/pandas-docs/stable/user_guide/indexing.html#returning-a-view-versus-a-copy\n",
      "\n",
      "A value is trying to be set on a copy of a slice from a DataFrame\n",
      "\n",
      "See the caveats in the documentation: https://pandas.pydata.org/pandas-docs/stable/user_guide/indexing.html#returning-a-view-versus-a-copy\n",
      "\n",
      "A value is trying to be set on a copy of a slice from a DataFrame\n",
      "\n",
      "See the caveats in the documentation: https://pandas.pydata.org/pandas-docs/stable/user_guide/indexing.html#returning-a-view-versus-a-copy\n",
      "\n",
      "A value is trying to be set on a copy of a slice from a DataFrame\n",
      "\n",
      "See the caveats in the documentation: https://pandas.pydata.org/pandas-docs/stable/user_guide/indexing.html#returning-a-view-versus-a-copy\n",
      "\n",
      "A value is trying to be set on a copy of a slice from a DataFrame\n",
      "\n",
      "See the caveats in the documentation: https://pandas.pydata.org/pandas-docs/stable/user_guide/indexing.html#returning-a-view-versus-a-copy\n",
      "\n",
      "A value is trying to be set on a copy of a slice from a DataFrame\n",
      "\n",
      "See the caveats in the documentation: https://pandas.pydata.org/pandas-docs/stable/user_guide/indexing.html#returning-a-view-versus-a-copy\n",
      "\n",
      "A value is trying to be set on a copy of a slice from a DataFrame\n",
      "\n",
      "See the caveats in the documentation: https://pandas.pydata.org/pandas-docs/stable/user_guide/indexing.html#returning-a-view-versus-a-copy\n",
      "\n",
      "A value is trying to be set on a copy of a slice from a DataFrame\n",
      "\n",
      "See the caveats in the documentation: https://pandas.pydata.org/pandas-docs/stable/user_guide/indexing.html#returning-a-view-versus-a-copy\n",
      "\n",
      "A value is trying to be set on a copy of a slice from a DataFrame\n",
      "\n",
      "See the caveats in the documentation: https://pandas.pydata.org/pandas-docs/stable/user_guide/indexing.html#returning-a-view-versus-a-copy\n",
      "\n",
      "A value is trying to be set on a copy of a slice from a DataFrame\n",
      "\n",
      "See the caveats in the documentation: https://pandas.pydata.org/pandas-docs/stable/user_guide/indexing.html#returning-a-view-versus-a-copy\n",
      "\n",
      "A value is trying to be set on a copy of a slice from a DataFrame\n",
      "\n",
      "See the caveats in the documentation: https://pandas.pydata.org/pandas-docs/stable/user_guide/indexing.html#returning-a-view-versus-a-copy\n",
      "\n",
      "A value is trying to be set on a copy of a slice from a DataFrame\n",
      "\n",
      "See the caveats in the documentation: https://pandas.pydata.org/pandas-docs/stable/user_guide/indexing.html#returning-a-view-versus-a-copy\n",
      "elementwise comparison failed; returning scalar instead, but in the future will perform elementwise comparison\n",
      "elementwise comparison failed; returning scalar instead, but in the future will perform elementwise comparison\n",
      "elementwise comparison failed; returning scalar instead, but in the future will perform elementwise comparison\n",
      "elementwise comparison failed; returning scalar instead, but in the future will perform elementwise comparison\n",
      "elementwise comparison failed; returning scalar instead, but in the future will perform elementwise comparison\n",
      "elementwise comparison failed; returning scalar instead, but in the future will perform elementwise comparison\n",
      "elementwise comparison failed; returning scalar instead, but in the future will perform elementwise comparison\n",
      "elementwise comparison failed; returning scalar instead, but in the future will perform elementwise comparison\n",
      "elementwise comparison failed; returning scalar instead, but in the future will perform elementwise comparison\n",
      "elementwise comparison failed; returning scalar instead, but in the future will perform elementwise comparison\n",
      "elementwise comparison failed; returning scalar instead, but in the future will perform elementwise comparison\n",
      "elementwise comparison failed; returning scalar instead, but in the future will perform elementwise comparison\n",
      "elementwise comparison failed; returning scalar instead, but in the future will perform elementwise comparison\n",
      "elementwise comparison failed; returning scalar instead, but in the future will perform elementwise comparison\n",
      "elementwise comparison failed; returning scalar instead, but in the future will perform elementwise comparison\n",
      "elementwise comparison failed; returning scalar instead, but in the future will perform elementwise comparison\n",
      "elementwise comparison failed; returning scalar instead, but in the future will perform elementwise comparison\n",
      "elementwise comparison failed; returning scalar instead, but in the future will perform elementwise comparison\n",
      "elementwise comparison failed; returning scalar instead, but in the future will perform elementwise comparison\n",
      "elementwise comparison failed; returning scalar instead, but in the future will perform elementwise comparison\n",
      "elementwise comparison failed; returning scalar instead, but in the future will perform elementwise comparison\n",
      "elementwise comparison failed; returning scalar instead, but in the future will perform elementwise comparison\n",
      "elementwise comparison failed; returning scalar instead, but in the future will perform elementwise comparison\n",
      "elementwise comparison failed; returning scalar instead, but in the future will perform elementwise comparison\n",
      "elementwise comparison failed; returning scalar instead, but in the future will perform elementwise comparison\n",
      "elementwise comparison failed; returning scalar instead, but in the future will perform elementwise comparison\n",
      "elementwise comparison failed; returning scalar instead, but in the future will perform elementwise comparison\n",
      "elementwise comparison failed; returning scalar instead, but in the future will perform elementwise comparison\n",
      "elementwise comparison failed; returning scalar instead, but in the future will perform elementwise comparison\n",
      "elementwise comparison failed; returning scalar instead, but in the future will perform elementwise comparison\n",
      "elementwise comparison failed; returning scalar instead, but in the future will perform elementwise comparison\n",
      "elementwise comparison failed; returning scalar instead, but in the future will perform elementwise comparison\n",
      "elementwise comparison failed; returning scalar instead, but in the future will perform elementwise comparison\n",
      "elementwise comparison failed; returning scalar instead, but in the future will perform elementwise comparison\n",
      "elementwise comparison failed; returning scalar instead, but in the future will perform elementwise comparison\n",
      "elementwise comparison failed; returning scalar instead, but in the future will perform elementwise comparison\n",
      "elementwise comparison failed; returning scalar instead, but in the future will perform elementwise comparison\n",
      "elementwise comparison failed; returning scalar instead, but in the future will perform elementwise comparison\n",
      "elementwise comparison failed; returning scalar instead, but in the future will perform elementwise comparison\n",
      "elementwise comparison failed; returning scalar instead, but in the future will perform elementwise comparison\n",
      "elementwise comparison failed; returning scalar instead, but in the future will perform elementwise comparison\n",
      "elementwise comparison failed; returning scalar instead, but in the future will perform elementwise comparison\n",
      "elementwise comparison failed; returning scalar instead, but in the future will perform elementwise comparison\n",
      "elementwise comparison failed; returning scalar instead, but in the future will perform elementwise comparison\n",
      "elementwise comparison failed; returning scalar instead, but in the future will perform elementwise comparison\n",
      "elementwise comparison failed; returning scalar instead, but in the future will perform elementwise comparison\n",
      "elementwise comparison failed; returning scalar instead, but in the future will perform elementwise comparison\n",
      "elementwise comparison failed; returning scalar instead, but in the future will perform elementwise comparison\n",
      "elementwise comparison failed; returning scalar instead, but in the future will perform elementwise comparison\n",
      "elementwise comparison failed; returning scalar instead, but in the future will perform elementwise comparison\n",
      "elementwise comparison failed; returning scalar instead, but in the future will perform elementwise comparison\n",
      "elementwise comparison failed; returning scalar instead, but in the future will perform elementwise comparison\n",
      "elementwise comparison failed; returning scalar instead, but in the future will perform elementwise comparison\n",
      "elementwise comparison failed; returning scalar instead, but in the future will perform elementwise comparison\n",
      "elementwise comparison failed; returning scalar instead, but in the future will perform elementwise comparison\n",
      "elementwise comparison failed; returning scalar instead, but in the future will perform elementwise comparison\n",
      "elementwise comparison failed; returning scalar instead, but in the future will perform elementwise comparison\n",
      "elementwise comparison failed; returning scalar instead, but in the future will perform elementwise comparison\n",
      "elementwise comparison failed; returning scalar instead, but in the future will perform elementwise comparison\n",
      "elementwise comparison failed; returning scalar instead, but in the future will perform elementwise comparison\n",
      "elementwise comparison failed; returning scalar instead, but in the future will perform elementwise comparison\n",
      "elementwise comparison failed; returning scalar instead, but in the future will perform elementwise comparison\n",
      "elementwise comparison failed; returning scalar instead, but in the future will perform elementwise comparison\n",
      "elementwise comparison failed; returning scalar instead, but in the future will perform elementwise comparison\n",
      "elementwise comparison failed; returning scalar instead, but in the future will perform elementwise comparison\n",
      "elementwise comparison failed; returning scalar instead, but in the future will perform elementwise comparison\n",
      "elementwise comparison failed; returning scalar instead, but in the future will perform elementwise comparison\n",
      "elementwise comparison failed; returning scalar instead, but in the future will perform elementwise comparison\n",
      "elementwise comparison failed; returning scalar instead, but in the future will perform elementwise comparison\n",
      "elementwise comparison failed; returning scalar instead, but in the future will perform elementwise comparison\n",
      "elementwise comparison failed; returning scalar instead, but in the future will perform elementwise comparison\n",
      "elementwise comparison failed; returning scalar instead, but in the future will perform elementwise comparison\n",
      "elementwise comparison failed; returning scalar instead, but in the future will perform elementwise comparison\n",
      "elementwise comparison failed; returning scalar instead, but in the future will perform elementwise comparison\n",
      "elementwise comparison failed; returning scalar instead, but in the future will perform elementwise comparison\n",
      "elementwise comparison failed; returning scalar instead, but in the future will perform elementwise comparison\n",
      "elementwise comparison failed; returning scalar instead, but in the future will perform elementwise comparison\n",
      "elementwise comparison failed; returning scalar instead, but in the future will perform elementwise comparison\n",
      "elementwise comparison failed; returning scalar instead, but in the future will perform elementwise comparison\n",
      "elementwise comparison failed; returning scalar instead, but in the future will perform elementwise comparison\n",
      "elementwise comparison failed; returning scalar instead, but in the future will perform elementwise comparison\n",
      "elementwise comparison failed; returning scalar instead, but in the future will perform elementwise comparison\n",
      "elementwise comparison failed; returning scalar instead, but in the future will perform elementwise comparison\n",
      "elementwise comparison failed; returning scalar instead, but in the future will perform elementwise comparison\n",
      "elementwise comparison failed; returning scalar instead, but in the future will perform elementwise comparison\n",
      "elementwise comparison failed; returning scalar instead, but in the future will perform elementwise comparison\n",
      "elementwise comparison failed; returning scalar instead, but in the future will perform elementwise comparison\n",
      "elementwise comparison failed; returning scalar instead, but in the future will perform elementwise comparison\n",
      "elementwise comparison failed; returning scalar instead, but in the future will perform elementwise comparison\n",
      "elementwise comparison failed; returning scalar instead, but in the future will perform elementwise comparison\n",
      "elementwise comparison failed; returning scalar instead, but in the future will perform elementwise comparison\n",
      "elementwise comparison failed; returning scalar instead, but in the future will perform elementwise comparison\n",
      "elementwise comparison failed; returning scalar instead, but in the future will perform elementwise comparison\n",
      "elementwise comparison failed; returning scalar instead, but in the future will perform elementwise comparison\n",
      "elementwise comparison failed; returning scalar instead, but in the future will perform elementwise comparison\n",
      "elementwise comparison failed; returning scalar instead, but in the future will perform elementwise comparison\n",
      "elementwise comparison failed; returning scalar instead, but in the future will perform elementwise comparison\n",
      "elementwise comparison failed; returning scalar instead, but in the future will perform elementwise comparison\n",
      "elementwise comparison failed; returning scalar instead, but in the future will perform elementwise comparison\n",
      "elementwise comparison failed; returning scalar instead, but in the future will perform elementwise comparison\n",
      "elementwise comparison failed; returning scalar instead, but in the future will perform elementwise comparison\n",
      "elementwise comparison failed; returning scalar instead, but in the future will perform elementwise comparison\n",
      "elementwise comparison failed; returning scalar instead, but in the future will perform elementwise comparison\n",
      "elementwise comparison failed; returning scalar instead, but in the future will perform elementwise comparison\n",
      "elementwise comparison failed; returning scalar instead, but in the future will perform elementwise comparison\n",
      "elementwise comparison failed; returning scalar instead, but in the future will perform elementwise comparison\n",
      "elementwise comparison failed; returning scalar instead, but in the future will perform elementwise comparison\n",
      "elementwise comparison failed; returning scalar instead, but in the future will perform elementwise comparison\n",
      "elementwise comparison failed; returning scalar instead, but in the future will perform elementwise comparison\n",
      "elementwise comparison failed; returning scalar instead, but in the future will perform elementwise comparison\n",
      "elementwise comparison failed; returning scalar instead, but in the future will perform elementwise comparison\n",
      "elementwise comparison failed; returning scalar instead, but in the future will perform elementwise comparison\n",
      "elementwise comparison failed; returning scalar instead, but in the future will perform elementwise comparison\n",
      "elementwise comparison failed; returning scalar instead, but in the future will perform elementwise comparison\n",
      "elementwise comparison failed; returning scalar instead, but in the future will perform elementwise comparison\n",
      "elementwise comparison failed; returning scalar instead, but in the future will perform elementwise comparison\n",
      "elementwise comparison failed; returning scalar instead, but in the future will perform elementwise comparison\n",
      "elementwise comparison failed; returning scalar instead, but in the future will perform elementwise comparison\n",
      "elementwise comparison failed; returning scalar instead, but in the future will perform elementwise comparison\n",
      "elementwise comparison failed; returning scalar instead, but in the future will perform elementwise comparison\n",
      "elementwise comparison failed; returning scalar instead, but in the future will perform elementwise comparison\n",
      "elementwise comparison failed; returning scalar instead, but in the future will perform elementwise comparison\n",
      "elementwise comparison failed; returning scalar instead, but in the future will perform elementwise comparison\n",
      "elementwise comparison failed; returning scalar instead, but in the future will perform elementwise comparison\n",
      "elementwise comparison failed; returning scalar instead, but in the future will perform elementwise comparison\n",
      "elementwise comparison failed; returning scalar instead, but in the future will perform elementwise comparison\n",
      "elementwise comparison failed; returning scalar instead, but in the future will perform elementwise comparison\n",
      "elementwise comparison failed; returning scalar instead, but in the future will perform elementwise comparison\n",
      "elementwise comparison failed; returning scalar instead, but in the future will perform elementwise comparison\n",
      "elementwise comparison failed; returning scalar instead, but in the future will perform elementwise comparison\n",
      "elementwise comparison failed; returning scalar instead, but in the future will perform elementwise comparison\n",
      "elementwise comparison failed; returning scalar instead, but in the future will perform elementwise comparison\n",
      "elementwise comparison failed; returning scalar instead, but in the future will perform elementwise comparison\n",
      "elementwise comparison failed; returning scalar instead, but in the future will perform elementwise comparison\n",
      "elementwise comparison failed; returning scalar instead, but in the future will perform elementwise comparison\n",
      "elementwise comparison failed; returning scalar instead, but in the future will perform elementwise comparison\n",
      "elementwise comparison failed; returning scalar instead, but in the future will perform elementwise comparison\n",
      "elementwise comparison failed; returning scalar instead, but in the future will perform elementwise comparison\n",
      "elementwise comparison failed; returning scalar instead, but in the future will perform elementwise comparison\n",
      "elementwise comparison failed; returning scalar instead, but in the future will perform elementwise comparison\n",
      "elementwise comparison failed; returning scalar instead, but in the future will perform elementwise comparison\n",
      "elementwise comparison failed; returning scalar instead, but in the future will perform elementwise comparison\n",
      "elementwise comparison failed; returning scalar instead, but in the future will perform elementwise comparison\n",
      "elementwise comparison failed; returning scalar instead, but in the future will perform elementwise comparison\n",
      "elementwise comparison failed; returning scalar instead, but in the future will perform elementwise comparison\n",
      "elementwise comparison failed; returning scalar instead, but in the future will perform elementwise comparison\n",
      "elementwise comparison failed; returning scalar instead, but in the future will perform elementwise comparison\n",
      "elementwise comparison failed; returning scalar instead, but in the future will perform elementwise comparison\n",
      "elementwise comparison failed; returning scalar instead, but in the future will perform elementwise comparison\n",
      "elementwise comparison failed; returning scalar instead, but in the future will perform elementwise comparison\n",
      "elementwise comparison failed; returning scalar instead, but in the future will perform elementwise comparison\n",
      "elementwise comparison failed; returning scalar instead, but in the future will perform elementwise comparison\n",
      "elementwise comparison failed; returning scalar instead, but in the future will perform elementwise comparison\n",
      "elementwise comparison failed; returning scalar instead, but in the future will perform elementwise comparison\n",
      "elementwise comparison failed; returning scalar instead, but in the future will perform elementwise comparison\n",
      "elementwise comparison failed; returning scalar instead, but in the future will perform elementwise comparison\n",
      "elementwise comparison failed; returning scalar instead, but in the future will perform elementwise comparison\n",
      "elementwise comparison failed; returning scalar instead, but in the future will perform elementwise comparison\n",
      "elementwise comparison failed; returning scalar instead, but in the future will perform elementwise comparison\n",
      "elementwise comparison failed; returning scalar instead, but in the future will perform elementwise comparison\n",
      "elementwise comparison failed; returning scalar instead, but in the future will perform elementwise comparison\n",
      "elementwise comparison failed; returning scalar instead, but in the future will perform elementwise comparison\n",
      "elementwise comparison failed; returning scalar instead, but in the future will perform elementwise comparison\n",
      "elementwise comparison failed; returning scalar instead, but in the future will perform elementwise comparison\n",
      "elementwise comparison failed; returning scalar instead, but in the future will perform elementwise comparison\n",
      "elementwise comparison failed; returning scalar instead, but in the future will perform elementwise comparison\n",
      "elementwise comparison failed; returning scalar instead, but in the future will perform elementwise comparison\n",
      "elementwise comparison failed; returning scalar instead, but in the future will perform elementwise comparison\n",
      "elementwise comparison failed; returning scalar instead, but in the future will perform elementwise comparison\n",
      "elementwise comparison failed; returning scalar instead, but in the future will perform elementwise comparison\n",
      "elementwise comparison failed; returning scalar instead, but in the future will perform elementwise comparison\n",
      "elementwise comparison failed; returning scalar instead, but in the future will perform elementwise comparison\n",
      "elementwise comparison failed; returning scalar instead, but in the future will perform elementwise comparison\n",
      "elementwise comparison failed; returning scalar instead, but in the future will perform elementwise comparison\n",
      "elementwise comparison failed; returning scalar instead, but in the future will perform elementwise comparison\n",
      "elementwise comparison failed; returning scalar instead, but in the future will perform elementwise comparison\n",
      "elementwise comparison failed; returning scalar instead, but in the future will perform elementwise comparison\n",
      "elementwise comparison failed; returning scalar instead, but in the future will perform elementwise comparison\n",
      "elementwise comparison failed; returning scalar instead, but in the future will perform elementwise comparison\n",
      "elementwise comparison failed; returning scalar instead, but in the future will perform elementwise comparison\n",
      "elementwise comparison failed; returning scalar instead, but in the future will perform elementwise comparison\n",
      "elementwise comparison failed; returning scalar instead, but in the future will perform elementwise comparison\n",
      "elementwise comparison failed; returning scalar instead, but in the future will perform elementwise comparison\n",
      "elementwise comparison failed; returning scalar instead, but in the future will perform elementwise comparison\n",
      "elementwise comparison failed; returning scalar instead, but in the future will perform elementwise comparison\n",
      "elementwise comparison failed; returning scalar instead, but in the future will perform elementwise comparison\n",
      "elementwise comparison failed; returning scalar instead, but in the future will perform elementwise comparison\n",
      "elementwise comparison failed; returning scalar instead, but in the future will perform elementwise comparison\n",
      "elementwise comparison failed; returning scalar instead, but in the future will perform elementwise comparison\n",
      "elementwise comparison failed; returning scalar instead, but in the future will perform elementwise comparison\n",
      "elementwise comparison failed; returning scalar instead, but in the future will perform elementwise comparison\n",
      "elementwise comparison failed; returning scalar instead, but in the future will perform elementwise comparison\n",
      "elementwise comparison failed; returning scalar instead, but in the future will perform elementwise comparison\n",
      "elementwise comparison failed; returning scalar instead, but in the future will perform elementwise comparison\n",
      "elementwise comparison failed; returning scalar instead, but in the future will perform elementwise comparison\n",
      "elementwise comparison failed; returning scalar instead, but in the future will perform elementwise comparison\n",
      "elementwise comparison failed; returning scalar instead, but in the future will perform elementwise comparison\n",
      "elementwise comparison failed; returning scalar instead, but in the future will perform elementwise comparison\n",
      "elementwise comparison failed; returning scalar instead, but in the future will perform elementwise comparison\n",
      "elementwise comparison failed; returning scalar instead, but in the future will perform elementwise comparison\n",
      "elementwise comparison failed; returning scalar instead, but in the future will perform elementwise comparison\n",
      "elementwise comparison failed; returning scalar instead, but in the future will perform elementwise comparison\n",
      "elementwise comparison failed; returning scalar instead, but in the future will perform elementwise comparison\n",
      "elementwise comparison failed; returning scalar instead, but in the future will perform elementwise comparison\n",
      "elementwise comparison failed; returning scalar instead, but in the future will perform elementwise comparison\n",
      "elementwise comparison failed; returning scalar instead, but in the future will perform elementwise comparison\n",
      "elementwise comparison failed; returning scalar instead, but in the future will perform elementwise comparison\n",
      "elementwise comparison failed; returning scalar instead, but in the future will perform elementwise comparison\n",
      "elementwise comparison failed; returning scalar instead, but in the future will perform elementwise comparison\n",
      "elementwise comparison failed; returning scalar instead, but in the future will perform elementwise comparison\n",
      "elementwise comparison failed; returning scalar instead, but in the future will perform elementwise comparison\n",
      "elementwise comparison failed; returning scalar instead, but in the future will perform elementwise comparison\n",
      "elementwise comparison failed; returning scalar instead, but in the future will perform elementwise comparison\n",
      "elementwise comparison failed; returning scalar instead, but in the future will perform elementwise comparison\n",
      "elementwise comparison failed; returning scalar instead, but in the future will perform elementwise comparison\n",
      "elementwise comparison failed; returning scalar instead, but in the future will perform elementwise comparison\n",
      "elementwise comparison failed; returning scalar instead, but in the future will perform elementwise comparison\n",
      "elementwise comparison failed; returning scalar instead, but in the future will perform elementwise comparison\n",
      "elementwise comparison failed; returning scalar instead, but in the future will perform elementwise comparison\n",
      "elementwise comparison failed; returning scalar instead, but in the future will perform elementwise comparison\n",
      "elementwise comparison failed; returning scalar instead, but in the future will perform elementwise comparison\n",
      "elementwise comparison failed; returning scalar instead, but in the future will perform elementwise comparison\n",
      "elementwise comparison failed; returning scalar instead, but in the future will perform elementwise comparison\n",
      "elementwise comparison failed; returning scalar instead, but in the future will perform elementwise comparison\n",
      "elementwise comparison failed; returning scalar instead, but in the future will perform elementwise comparison\n",
      "elementwise comparison failed; returning scalar instead, but in the future will perform elementwise comparison\n",
      "elementwise comparison failed; returning scalar instead, but in the future will perform elementwise comparison\n",
      "elementwise comparison failed; returning scalar instead, but in the future will perform elementwise comparison\n",
      "elementwise comparison failed; returning scalar instead, but in the future will perform elementwise comparison\n",
      "elementwise comparison failed; returning scalar instead, but in the future will perform elementwise comparison\n",
      "elementwise comparison failed; returning scalar instead, but in the future will perform elementwise comparison\n",
      "elementwise comparison failed; returning scalar instead, but in the future will perform elementwise comparison\n",
      "elementwise comparison failed; returning scalar instead, but in the future will perform elementwise comparison\n",
      "elementwise comparison failed; returning scalar instead, but in the future will perform elementwise comparison\n",
      "elementwise comparison failed; returning scalar instead, but in the future will perform elementwise comparison\n",
      "elementwise comparison failed; returning scalar instead, but in the future will perform elementwise comparison\n",
      "elementwise comparison failed; returning scalar instead, but in the future will perform elementwise comparison\n",
      "elementwise comparison failed; returning scalar instead, but in the future will perform elementwise comparison\n",
      "elementwise comparison failed; returning scalar instead, but in the future will perform elementwise comparison\n",
      "elementwise comparison failed; returning scalar instead, but in the future will perform elementwise comparison\n",
      "elementwise comparison failed; returning scalar instead, but in the future will perform elementwise comparison\n",
      "elementwise comparison failed; returning scalar instead, but in the future will perform elementwise comparison\n",
      "elementwise comparison failed; returning scalar instead, but in the future will perform elementwise comparison\n",
      "elementwise comparison failed; returning scalar instead, but in the future will perform elementwise comparison\n",
      "elementwise comparison failed; returning scalar instead, but in the future will perform elementwise comparison\n",
      "elementwise comparison failed; returning scalar instead, but in the future will perform elementwise comparison\n",
      "elementwise comparison failed; returning scalar instead, but in the future will perform elementwise comparison\n",
      "elementwise comparison failed; returning scalar instead, but in the future will perform elementwise comparison\n",
      "elementwise comparison failed; returning scalar instead, but in the future will perform elementwise comparison\n",
      "elementwise comparison failed; returning scalar instead, but in the future will perform elementwise comparison\n",
      "elementwise comparison failed; returning scalar instead, but in the future will perform elementwise comparison\n",
      "elementwise comparison failed; returning scalar instead, but in the future will perform elementwise comparison\n",
      "elementwise comparison failed; returning scalar instead, but in the future will perform elementwise comparison\n",
      "elementwise comparison failed; returning scalar instead, but in the future will perform elementwise comparison\n",
      "elementwise comparison failed; returning scalar instead, but in the future will perform elementwise comparison\n",
      "elementwise comparison failed; returning scalar instead, but in the future will perform elementwise comparison\n",
      "elementwise comparison failed; returning scalar instead, but in the future will perform elementwise comparison\n",
      "elementwise comparison failed; returning scalar instead, but in the future will perform elementwise comparison\n",
      "elementwise comparison failed; returning scalar instead, but in the future will perform elementwise comparison\n",
      "elementwise comparison failed; returning scalar instead, but in the future will perform elementwise comparison\n",
      "elementwise comparison failed; returning scalar instead, but in the future will perform elementwise comparison\n",
      "elementwise comparison failed; returning scalar instead, but in the future will perform elementwise comparison\n",
      "elementwise comparison failed; returning scalar instead, but in the future will perform elementwise comparison\n",
      "elementwise comparison failed; returning scalar instead, but in the future will perform elementwise comparison\n",
      "elementwise comparison failed; returning scalar instead, but in the future will perform elementwise comparison\n",
      "elementwise comparison failed; returning scalar instead, but in the future will perform elementwise comparison\n",
      "elementwise comparison failed; returning scalar instead, but in the future will perform elementwise comparison\n",
      "elementwise comparison failed; returning scalar instead, but in the future will perform elementwise comparison\n",
      "elementwise comparison failed; returning scalar instead, but in the future will perform elementwise comparison\n",
      "elementwise comparison failed; returning scalar instead, but in the future will perform elementwise comparison\n",
      "elementwise comparison failed; returning scalar instead, but in the future will perform elementwise comparison\n",
      "elementwise comparison failed; returning scalar instead, but in the future will perform elementwise comparison\n",
      "elementwise comparison failed; returning scalar instead, but in the future will perform elementwise comparison\n",
      "elementwise comparison failed; returning scalar instead, but in the future will perform elementwise comparison\n",
      "elementwise comparison failed; returning scalar instead, but in the future will perform elementwise comparison\n",
      "elementwise comparison failed; returning scalar instead, but in the future will perform elementwise comparison\n",
      "elementwise comparison failed; returning scalar instead, but in the future will perform elementwise comparison\n",
      "elementwise comparison failed; returning scalar instead, but in the future will perform elementwise comparison\n",
      "elementwise comparison failed; returning scalar instead, but in the future will perform elementwise comparison\n",
      "elementwise comparison failed; returning scalar instead, but in the future will perform elementwise comparison\n",
      "elementwise comparison failed; returning scalar instead, but in the future will perform elementwise comparison\n",
      "elementwise comparison failed; returning scalar instead, but in the future will perform elementwise comparison\n",
      "elementwise comparison failed; returning scalar instead, but in the future will perform elementwise comparison\n",
      "elementwise comparison failed; returning scalar instead, but in the future will perform elementwise comparison\n",
      "elementwise comparison failed; returning scalar instead, but in the future will perform elementwise comparison\n",
      "elementwise comparison failed; returning scalar instead, but in the future will perform elementwise comparison\n",
      "elementwise comparison failed; returning scalar instead, but in the future will perform elementwise comparison\n",
      "elementwise comparison failed; returning scalar instead, but in the future will perform elementwise comparison\n",
      "elementwise comparison failed; returning scalar instead, but in the future will perform elementwise comparison\n",
      "elementwise comparison failed; returning scalar instead, but in the future will perform elementwise comparison\n",
      "elementwise comparison failed; returning scalar instead, but in the future will perform elementwise comparison\n",
      "elementwise comparison failed; returning scalar instead, but in the future will perform elementwise comparison\n",
      "elementwise comparison failed; returning scalar instead, but in the future will perform elementwise comparison\n",
      "elementwise comparison failed; returning scalar instead, but in the future will perform elementwise comparison\n",
      "elementwise comparison failed; returning scalar instead, but in the future will perform elementwise comparison\n",
      "elementwise comparison failed; returning scalar instead, but in the future will perform elementwise comparison\n",
      "elementwise comparison failed; returning scalar instead, but in the future will perform elementwise comparison\n",
      "elementwise comparison failed; returning scalar instead, but in the future will perform elementwise comparison\n",
      "elementwise comparison failed; returning scalar instead, but in the future will perform elementwise comparison\n",
      "elementwise comparison failed; returning scalar instead, but in the future will perform elementwise comparison\n",
      "elementwise comparison failed; returning scalar instead, but in the future will perform elementwise comparison\n",
      "elementwise comparison failed; returning scalar instead, but in the future will perform elementwise comparison\n",
      "elementwise comparison failed; returning scalar instead, but in the future will perform elementwise comparison\n",
      "elementwise comparison failed; returning scalar instead, but in the future will perform elementwise comparison\n",
      "elementwise comparison failed; returning scalar instead, but in the future will perform elementwise comparison\n",
      "elementwise comparison failed; returning scalar instead, but in the future will perform elementwise comparison\n",
      "elementwise comparison failed; returning scalar instead, but in the future will perform elementwise comparison\n",
      "elementwise comparison failed; returning scalar instead, but in the future will perform elementwise comparison\n",
      "elementwise comparison failed; returning scalar instead, but in the future will perform elementwise comparison\n",
      "elementwise comparison failed; returning scalar instead, but in the future will perform elementwise comparison\n",
      "elementwise comparison failed; returning scalar instead, but in the future will perform elementwise comparison\n",
      "elementwise comparison failed; returning scalar instead, but in the future will perform elementwise comparison\n",
      "elementwise comparison failed; returning scalar instead, but in the future will perform elementwise comparison\n",
      "elementwise comparison failed; returning scalar instead, but in the future will perform elementwise comparison\n",
      "elementwise comparison failed; returning scalar instead, but in the future will perform elementwise comparison\n",
      "elementwise comparison failed; returning scalar instead, but in the future will perform elementwise comparison\n",
      "elementwise comparison failed; returning scalar instead, but in the future will perform elementwise comparison\n",
      "elementwise comparison failed; returning scalar instead, but in the future will perform elementwise comparison\n",
      "elementwise comparison failed; returning scalar instead, but in the future will perform elementwise comparison\n",
      "elementwise comparison failed; returning scalar instead, but in the future will perform elementwise comparison\n",
      "elementwise comparison failed; returning scalar instead, but in the future will perform elementwise comparison\n",
      "elementwise comparison failed; returning scalar instead, but in the future will perform elementwise comparison\n",
      "elementwise comparison failed; returning scalar instead, but in the future will perform elementwise comparison\n",
      "elementwise comparison failed; returning scalar instead, but in the future will perform elementwise comparison\n",
      "elementwise comparison failed; returning scalar instead, but in the future will perform elementwise comparison\n",
      "elementwise comparison failed; returning scalar instead, but in the future will perform elementwise comparison\n",
      "elementwise comparison failed; returning scalar instead, but in the future will perform elementwise comparison\n",
      "elementwise comparison failed; returning scalar instead, but in the future will perform elementwise comparison\n",
      "elementwise comparison failed; returning scalar instead, but in the future will perform elementwise comparison\n",
      "elementwise comparison failed; returning scalar instead, but in the future will perform elementwise comparison\n",
      "elementwise comparison failed; returning scalar instead, but in the future will perform elementwise comparison\n",
      "elementwise comparison failed; returning scalar instead, but in the future will perform elementwise comparison\n",
      "elementwise comparison failed; returning scalar instead, but in the future will perform elementwise comparison\n",
      "elementwise comparison failed; returning scalar instead, but in the future will perform elementwise comparison\n",
      "elementwise comparison failed; returning scalar instead, but in the future will perform elementwise comparison\n",
      "elementwise comparison failed; returning scalar instead, but in the future will perform elementwise comparison\n",
      "elementwise comparison failed; returning scalar instead, but in the future will perform elementwise comparison\n",
      "elementwise comparison failed; returning scalar instead, but in the future will perform elementwise comparison\n",
      "elementwise comparison failed; returning scalar instead, but in the future will perform elementwise comparison\n",
      "elementwise comparison failed; returning scalar instead, but in the future will perform elementwise comparison\n",
      "elementwise comparison failed; returning scalar instead, but in the future will perform elementwise comparison\n",
      "elementwise comparison failed; returning scalar instead, but in the future will perform elementwise comparison\n",
      "elementwise comparison failed; returning scalar instead, but in the future will perform elementwise comparison\n",
      "elementwise comparison failed; returning scalar instead, but in the future will perform elementwise comparison\n",
      "elementwise comparison failed; returning scalar instead, but in the future will perform elementwise comparison\n",
      "elementwise comparison failed; returning scalar instead, but in the future will perform elementwise comparison\n",
      "elementwise comparison failed; returning scalar instead, but in the future will perform elementwise comparison\n",
      "elementwise comparison failed; returning scalar instead, but in the future will perform elementwise comparison\n",
      "elementwise comparison failed; returning scalar instead, but in the future will perform elementwise comparison\n",
      "elementwise comparison failed; returning scalar instead, but in the future will perform elementwise comparison\n",
      "elementwise comparison failed; returning scalar instead, but in the future will perform elementwise comparison\n",
      "elementwise comparison failed; returning scalar instead, but in the future will perform elementwise comparison\n",
      "elementwise comparison failed; returning scalar instead, but in the future will perform elementwise comparison\n",
      "elementwise comparison failed; returning scalar instead, but in the future will perform elementwise comparison\n",
      "elementwise comparison failed; returning scalar instead, but in the future will perform elementwise comparison\n",
      "elementwise comparison failed; returning scalar instead, but in the future will perform elementwise comparison\n",
      "elementwise comparison failed; returning scalar instead, but in the future will perform elementwise comparison\n",
      "elementwise comparison failed; returning scalar instead, but in the future will perform elementwise comparison\n",
      "elementwise comparison failed; returning scalar instead, but in the future will perform elementwise comparison\n",
      "elementwise comparison failed; returning scalar instead, but in the future will perform elementwise comparison\n",
      "elementwise comparison failed; returning scalar instead, but in the future will perform elementwise comparison\n",
      "elementwise comparison failed; returning scalar instead, but in the future will perform elementwise comparison\n",
      "elementwise comparison failed; returning scalar instead, but in the future will perform elementwise comparison\n",
      "elementwise comparison failed; returning scalar instead, but in the future will perform elementwise comparison\n",
      "elementwise comparison failed; returning scalar instead, but in the future will perform elementwise comparison\n",
      "elementwise comparison failed; returning scalar instead, but in the future will perform elementwise comparison\n",
      "elementwise comparison failed; returning scalar instead, but in the future will perform elementwise comparison\n",
      "elementwise comparison failed; returning scalar instead, but in the future will perform elementwise comparison\n",
      "elementwise comparison failed; returning scalar instead, but in the future will perform elementwise comparison\n",
      "elementwise comparison failed; returning scalar instead, but in the future will perform elementwise comparison\n",
      "elementwise comparison failed; returning scalar instead, but in the future will perform elementwise comparison\n",
      "elementwise comparison failed; returning scalar instead, but in the future will perform elementwise comparison\n",
      "elementwise comparison failed; returning scalar instead, but in the future will perform elementwise comparison\n",
      "elementwise comparison failed; returning scalar instead, but in the future will perform elementwise comparison\n",
      "elementwise comparison failed; returning scalar instead, but in the future will perform elementwise comparison\n",
      "elementwise comparison failed; returning scalar instead, but in the future will perform elementwise comparison\n",
      "elementwise comparison failed; returning scalar instead, but in the future will perform elementwise comparison\n",
      "elementwise comparison failed; returning scalar instead, but in the future will perform elementwise comparison\n",
      "elementwise comparison failed; returning scalar instead, but in the future will perform elementwise comparison\n",
      "elementwise comparison failed; returning scalar instead, but in the future will perform elementwise comparison\n",
      "elementwise comparison failed; returning scalar instead, but in the future will perform elementwise comparison\n",
      "elementwise comparison failed; returning scalar instead, but in the future will perform elementwise comparison\n",
      "elementwise comparison failed; returning scalar instead, but in the future will perform elementwise comparison\n",
      "elementwise comparison failed; returning scalar instead, but in the future will perform elementwise comparison\n",
      "elementwise comparison failed; returning scalar instead, but in the future will perform elementwise comparison\n",
      "elementwise comparison failed; returning scalar instead, but in the future will perform elementwise comparison\n",
      "elementwise comparison failed; returning scalar instead, but in the future will perform elementwise comparison\n",
      "elementwise comparison failed; returning scalar instead, but in the future will perform elementwise comparison\n",
      "elementwise comparison failed; returning scalar instead, but in the future will perform elementwise comparison\n",
      "elementwise comparison failed; returning scalar instead, but in the future will perform elementwise comparison\n",
      "elementwise comparison failed; returning scalar instead, but in the future will perform elementwise comparison\n",
      "elementwise comparison failed; returning scalar instead, but in the future will perform elementwise comparison\n",
      "elementwise comparison failed; returning scalar instead, but in the future will perform elementwise comparison\n",
      "elementwise comparison failed; returning scalar instead, but in the future will perform elementwise comparison\n",
      "elementwise comparison failed; returning scalar instead, but in the future will perform elementwise comparison\n",
      "elementwise comparison failed; returning scalar instead, but in the future will perform elementwise comparison\n",
      "elementwise comparison failed; returning scalar instead, but in the future will perform elementwise comparison\n",
      "elementwise comparison failed; returning scalar instead, but in the future will perform elementwise comparison\n",
      "elementwise comparison failed; returning scalar instead, but in the future will perform elementwise comparison\n",
      "elementwise comparison failed; returning scalar instead, but in the future will perform elementwise comparison\n",
      "elementwise comparison failed; returning scalar instead, but in the future will perform elementwise comparison\n",
      "elementwise comparison failed; returning scalar instead, but in the future will perform elementwise comparison\n",
      "elementwise comparison failed; returning scalar instead, but in the future will perform elementwise comparison\n",
      "elementwise comparison failed; returning scalar instead, but in the future will perform elementwise comparison\n",
      "elementwise comparison failed; returning scalar instead, but in the future will perform elementwise comparison\n",
      "elementwise comparison failed; returning scalar instead, but in the future will perform elementwise comparison\n",
      "elementwise comparison failed; returning scalar instead, but in the future will perform elementwise comparison\n"
     ]
    }
   ],
   "source": [
    "betti_values=pd.read_csv('Betti_experiments/Sharpe_values/betti_dim_3_points_5/relative_betti_values.csv',index_col='Date')\n",
    "long_betti_values=pd.read_csv('Betti_experiments/Sharpe_values/betti_dim_3_points_9/relative_betti_values.csv',index_col='Date')\n",
    "bmd_factors=pd.read_csv('Betti_experiments/Sharpe_values/betti_dim_3_points_5/relative_meandiff_factors.csv',index_col='Date')\n",
    "bmd_pos=factors_to_pos(stock_factor_df=bmd_factors,collected_stocks_df=stock_perc_df,tickers=s_and_p)"
   ]
  },
  {
   "cell_type": "markdown",
   "metadata": {},
   "source": [
    "Run the below to make sure everything has datetime indices"
   ]
  },
  {
   "cell_type": "code",
   "execution_count": 6,
   "metadata": {},
   "outputs": [],
   "source": [
    "bnh_returns_df.index=pd.to_datetime(bnh_returns_df.index.values,format='%Y-%m-%d')\n",
    "for df in [long_betti_values,betti_values,bmd_factors]:\n",
    "    df.index=pd.to_datetime(df.index.values,format='%Y-%m-%d')"
   ]
  },
  {
   "cell_type": "markdown",
   "metadata": {},
   "source": [
    "The below function calculates wheter a stock is 'high' or 'low' in some\n",
    "attribute, in reference to 'compar_ser'"
   ]
  },
  {
   "cell_type": "code",
   "execution_count": 7,
   "metadata": {},
   "outputs": [],
   "source": [
    "def high_value(input_ser,compar_ser,output_ser):\n",
    "    ind=compar_ser.index.intersection(input_ser.index)\n",
    "    df=output_ser.loc[ind]\n",
    "    input_ser=input_ser.loc[ind]\n",
    "    compar_ser=compar_ser.loc[ind]\n",
    "    (df\n",
    "    .loc[\n",
    "        input_ser.rolling(window=20).mean()\n",
    "        >\n",
    "        compar_ser.rolling(window=20).mean()\n",
    "    ]       \n",
    "    )=1\n",
    "    (df\n",
    "        .loc[input_ser.rolling(window=20).mean()\n",
    "            <=\n",
    "            compar_ser.rolling(window=20).mean()\n",
    "            ]       \n",
    "    )=0\n",
    "\n",
    "    df.loc[df.isnull()&(input_ser>compar_ser)]=1\n",
    "    df.loc[df.isnull()&(input_ser<compar_ser)]=0\n",
    "    return df.shift(1)\n",
    "\n"
   ]
  },
  {
   "cell_type": "markdown",
   "metadata": {},
   "source": [
    "Set indexers, and call a few dataframes"
   ]
  },
  {
   "cell_type": "code",
   "execution_count": 8,
   "metadata": {},
   "outputs": [],
   "source": [
    "future_window=5\n",
    "long_fut=10\n",
    "indexer = pd.api.indexers.FixedForwardWindowIndexer(window_size=future_window)\n",
    "long_indexer=pd.api.indexers.FixedForwardWindowIndexer(window_size=long_fut)\n",
    "bnh_returns_df.index=pd.to_datetime(bnh_returns_df.index.values,format='%Y-%m-%d')\n",
    "bns=bnh_returns_df.rolling(window=future_window).sum()\n",
    "bnm=bnh_returns_df.rolling(window=future_window).mean()\n",
    "bnstd=bnh_returns_df.rolling(window=future_window).std()\n",
    "mean_stocks=stock_closes_df.mean(axis=1)\n",
    "mean_stocks.index=pd.to_datetime(mean_stocks.index.values,'%Y-%m-%d')\n",
    "\n",
    "\n"
   ]
  },
  {
   "cell_type": "markdown",
   "metadata": {},
   "source": [
    "Loop over stocks and calculate various attributes"
   ]
  },
  {
   "cell_type": "code",
   "execution_count": 9,
   "metadata": {},
   "outputs": [
    {
     "name": "stderr",
     "output_type": "stream",
     "text": [
      "100%|██████████| 407/407 [00:38<00:00, 10.48it/s]\n"
     ]
    }
   ],
   "source": [
    "\n",
    "for t in tqdm(s_and_p):\n",
    "    df=pd.read_csv(f'Persim_vs_Betti/landscape/{t}.csv',index_col=0)\n",
    "    df.index=pd.to_datetime(df.index.values,format='%Y-%m-%d')\n",
    "\n",
    "    df.loc[:,'High value']=pd.to_numeric(high_value(df.loc[:,'Adj Close'],mean_stocks,df.loc[:,'Adj Close']))\n",
    "    df.loc[:,'High volume']=pd.to_numeric(high_value(df.loc[:,'Volume'],stock_volumes_df,df.loc[:,'Volume']))\n",
    "    df['Price momentum']=df['Adj Close'].rolling(window=20).mean()/df['Adj Close'].rolling(window=60).mean()\n",
    "    df['Landscape values']=df['Persistence landscape norm']\n",
    "\n",
    "    df=df.loc[:,['Price momentum', 'Landscape values','High value','High volume']]\n",
    "\n",
    "    df['ticker']=t\n",
    "    df['Returns']=stock_perc_df[t +' % Return']\n",
    "    df['Betti values dim=3 points=5']=betti_values[t]\n",
    "    df['Betti values dim=3 points=9']=long_betti_values[t]\n",
    "\n",
    "    df['Relative return']=(df['Returns']-bnh_returns_df)\n",
    "    df['Relative return momentum']=(df['Relative return'].rolling(window=10).mean()/df['Relative return'].rolling(window=30).mean())\n",
    "    df['Return momentum']=(df['Returns'].rolling(window=10).mean()/df['Returns'].rolling(window=30).mean())\n",
    "    df['Betti momentum']=(df['Betti values dim=3 points=5']/df['Betti values dim=3 points=9'])\n",
    "    df['Betti meandiff']=bmd_factors[t]\n",
    "    # df['Betti meandiff strategy position']=bmd_pos[f'{t} Position']\n",
    "    df['Landscape mean diff']=(df['Landscape values']-df['Landscape values'].rolling(window=21).mean())\n",
    "    df[f'{long_fut} day past relative return']=df[f'Relative return'].rolling(window=long_fut).mean()\n",
    "    df[f'{future_window} day past relative return']=df[f'Relative return'].rolling(window=future_window).mean()\n",
    "    df[f'{long_fut} day future relative return']=df[f'Relative return'].shift(-1).rolling(window=long_indexer).mean()\n",
    "    df[f'{future_window} day future relative return']=df[f'Relative return'].shift(-1).rolling(window=indexer).mean()\n",
    "    df['1 day future relative return']=df[f'Relative return'].shift(-1)\n",
    "    df.index.name='Date'\n",
    "    df.to_csv('ML_experiments/ML_dataframes/'+t+'.csv')\n"
   ]
  },
  {
   "cell_type": "markdown",
   "metadata": {},
   "source": [
    "Create test etc data"
   ]
  },
  {
   "cell_type": "code",
   "execution_count": 10,
   "metadata": {},
   "outputs": [],
   "source": [
    "fit_data=pd.DataFrame(dtype=np.float64)\n",
    "valid_data=pd.DataFrame(dtype=np.float64)\n",
    "test_data=pd.DataFrame(dtype=np.float64)\n",
    "train_data=pd.DataFrame(dtype=np.float64)"
   ]
  },
  {
   "cell_type": "markdown",
   "metadata": {},
   "source": [
    "Below sets start/end dates for fit, validation, training (=fit + validation),\n",
    "and test"
   ]
  },
  {
   "cell_type": "code",
   "execution_count": 11,
   "metadata": {},
   "outputs": [],
   "source": [
    "dates={'fit_start':'2017-08-11','fit_end':'2020-06-30', 'valid_start':'2020-07-01',\n",
    "'valid_end':'2020-12-31', 'train_start':'2017-08-11',\n",
    "'train_end':'2020-12-31','test_start':'2021-01-01', 'test_end': '2022-06-01'}\n",
    "d_splits=['fit','valid','train','test']\n",
    "data_split_dfs={'fit':fit_data,'valid':valid_data,'train':train_data,'test':test_data}"
   ]
  },
  {
   "cell_type": "markdown",
   "metadata": {},
   "source": [
    "### Run below first time only"
   ]
  },
  {
   "cell_type": "markdown",
   "metadata": {},
   "source": [
    "Create fit/validation/training/test data"
   ]
  },
  {
   "cell_type": "code",
   "execution_count": null,
   "metadata": {},
   "outputs": [],
   "source": [
    "for sp in d_splits:\n",
    "        data_split_dfs[sp]=pd.DataFrame(dtype=np.float64)\n",
    "        for t in s_and_p:\n",
    "            df=pd.read_csv('ML_experiments/ML_dataframes/'+t+'.csv',index_col='Date')\n",
    "            df.index=pd.to_datetime(df.index.values,format='%Y-%m-%d')\n",
    "            df.index=df.index.rename('Date')\n",
    "            df=df.loc[dates[sp+'_start']:dates[sp+'_end']]\n",
    "            data_split_dfs[sp]=pd.concat([data_split_dfs[sp],df])\n",
    "        data_split_dfs[sp].to_csv('ML_experiments/ML_'+sp+'.csv')"
   ]
  },
  {
   "cell_type": "markdown",
   "metadata": {},
   "source": [
    "### Run second time"
   ]
  },
  {
   "cell_type": "code",
   "execution_count": 13,
   "metadata": {},
   "outputs": [],
   "source": [
    "fit_data=pd.read_csv('ML_experiments/ML_fit.csv', low_memory=False,index_col='Date')\n",
    "valid_data=pd.read_csv('ML_experiments/ML_valid.csv', low_memory=False,index_col='Date')\n",
    "test_data=pd.read_csv('ML_experiments/ML_test.csv', low_memory=False,index_col='Date')\n",
    "train_data=pd.read_csv('ML_experiments/ML_train.csv',low_memory=False,index_col='Date')\n",
    "for df in [fit_data,valid_data,test_data]:\n",
    "        df.index=pd.to_datetime(df.index.values,format='%Y-%m-%d')"
   ]
  },
  {
   "cell_type": "markdown",
   "metadata": {},
   "source": [
    "### Finish collecting data"
   ]
  },
  {
   "cell_type": "markdown",
   "metadata": {},
   "source": [
    "We use the below in model construction"
   ]
  },
  {
   "cell_type": "code",
   "execution_count": 15,
   "metadata": {},
   "outputs": [],
   "source": [
    "drops=['ticker','1 day future relative return',\n",
    "        f'{future_window} day future relative return',f'{long_fut} day future relative return']\n",
    "X_fit=fit_data.copy()\n",
    "X_fit.index.name='Date'\n",
    "X_test=test_data.copy()\n",
    "X_test.index.name='Date'\n",
    "X_valid=valid_data.copy()\n",
    "X_valid.index.name='Date'\n",
    "X_train=train_data.copy()\n",
    "X_train.index.name='Date'\n",
    "for df in [X_fit,X_valid,X_test,X_train]:\n",
    "    df.drop(drops, axis=1,inplace=True)"
   ]
  },
  {
   "cell_type": "markdown",
   "metadata": {},
   "source": [
    "Create target variables. Note that we keep model names and use dictionaries to\n",
    "define target variables, models, etc, so can add/remove models easily"
   ]
  },
  {
   "cell_type": "code",
   "execution_count": 16,
   "metadata": {},
   "outputs": [],
   "source": [
    "y_next_fit = fit_data.copy()[['1 day future relative return']]\n",
    "y_next_valid = valid_data.copy()[['1 day future relative return']]\n",
    "y_next_test = test_data.copy()[['1 day future relative return']]\n",
    "y_next_train = train_data.copy()[['1 day future relative return']]\n",
    "\n",
    "model_names=['lgb_1']\n",
    "\n",
    "predict_data={'lgb_1':[y_next_fit,y_next_valid,y_next_train,y_next_test]      \n",
    "        }\n",
    "time_scale={'lgb_1':1}\n",
    "\n",
    "for mod in model_names:\n",
    "    for i in range(4):\n",
    "        predict_data[mod][i].index.name='Date'\n",
    "        predict_data[mod][i]=( predict_data[mod][i][f'{time_scale[mod]} day future relative return']> 0)*1\n",
    "      \n",
    "             \n",
    "\n"
   ]
  },
  {
   "cell_type": "markdown",
   "metadata": {},
   "source": [
    "## Optimize model params"
   ]
  },
  {
   "cell_type": "markdown",
   "metadata": {},
   "source": [
    "Use Optuna to optimize model parameters"
   ]
  },
  {
   "cell_type": "code",
   "execution_count": 17,
   "metadata": {},
   "outputs": [],
   "source": [
    "def objective(trial, modeller,X, y,Xv,yv):\n",
    "    param_grid = {\n",
    "        #         \"device_type\": trial.suggest_categorical(\"device_type\", ['gpu']),\n",
    "        \"n_estimators\": trial.suggest_categorical(\"n_estimators\", [1000]),\n",
    "        \"learning_rate\": trial.suggest_float(\"learning_rate\", 0.01, 0.3),\n",
    "        \"num_leaves\": trial.suggest_int(\"num_leaves\", 20, 3000, step=10),\n",
    "        \"max_depth\": trial.suggest_int(\"max_depth\", 3, 12),\n",
    "        \"min_data_in_leaf\": trial.suggest_int(\"min_data_in_leaf\", 100, 10000, step=50),\n",
    "        \"max_bin\": trial.suggest_int(\"max_bin\", 100, 300),\n",
    "        \"lambda_l1\": trial.suggest_int(\"lambda_l1\", 0, 100, step=1),\n",
    "        \"lambda_l2\": trial.suggest_int(\"lambda_l2\", 0, 100, step=1),\n",
    "        \"min_gain_to_split\": trial.suggest_float(\"min_gain_to_split\", 0, 15),\n",
    "        \"bagging_fraction\": trial.suggest_float(\n",
    "            \"bagging_fraction\", 0.2, 0.95, step=0.05\n",
    "        ),\n",
    "        \"bagging_freq\": trial.suggest_categorical(\"bagging_freq\", [1]),\n",
    "        \"feature_fraction\": trial.suggest_float(\n",
    "            \"feature_fraction\", 0.2, 0.95, step=0.05\n",
    "        ),\n",
    "    }\n",
    "    model = modeller()\n",
    "    model.fit(\n",
    "            X,\n",
    "            y\n",
    "    )\n",
    "    # preds = model.predict(Xv)\n",
    "    return (model.score(Xv,yv))"
   ]
  },
  {
   "cell_type": "code",
   "execution_count": 18,
   "metadata": {},
   "outputs": [],
   "source": [
    "lgb_1_ret = lgb.LGBMClassifier()\n",
    "\n",
    "model_name_dict={\n",
    "    'lgb_1':lgb_1_ret\n",
    "                }"
   ]
  },
  {
   "cell_type": "code",
   "execution_count": 32,
   "metadata": {},
   "outputs": [
    {
     "name": "stdout",
     "output_type": "stream",
     "text": [
      "[LightGBM] [Warning] bagging_freq is set=1, subsample_freq=0 will be ignored. Current value: bagging_freq=1\n",
      "[LightGBM] [Warning] min_data_in_leaf is set=350, min_child_samples=20 will be ignored. Current value: min_data_in_leaf=350\n",
      "[LightGBM] [Warning] lambda_l2 is set=86, reg_lambda=0.0 will be ignored. Current value: lambda_l2=86\n",
      "[LightGBM] [Warning] feature_fraction is set=0.75, colsample_bytree=1.0 will be ignored. Current value: feature_fraction=0.75\n",
      "[LightGBM] [Warning] bagging_fraction is set=0.4, subsample=1.0 will be ignored. Current value: bagging_fraction=0.4\n",
      "[LightGBM] [Warning] min_gain_to_split is set=10.804999368148568, min_split_gain=0.0 will be ignored. Current value: min_gain_to_split=10.804999368148568\n",
      "[LightGBM] [Warning] lambda_l1 is set=78, reg_alpha=0.0 will be ignored. Current value: lambda_l1=78\n",
      "lgb_1 fitted\n"
     ]
    }
   ],
   "source": [
    "optuna.logging.set_verbosity(0)\n",
    "best_param_dict={}\n",
    "for mod in model_names:\n",
    "    study = optuna.create_study(direction=\"maximize\", study_name=\"LGBM Classifier\")\n",
    "    Xm=X_fit.reset_index().drop('Date',axis=1)\n",
    "    ym=predict_data[mod][0].reset_index().drop('Date',axis=1)\n",
    "    Xmv=X_valid.reset_index().drop('Date',axis=1)\n",
    "    ymv=predict_data[mod][1].reset_index().drop('Date',axis=1)\n",
    "\n",
    "    func = lambda trial: objective(trial, lgb.LGBMClassifier,Xm,ym.iloc[:,0].ravel(),Xmv,ymv.iloc[:,0].ravel())\n",
    "    study.optimize(func, n_trials=20)\n",
    "    best_param_dict[mod]=pd.DataFrame(study.best_params.items(),columns=['params','value'])\n",
    "    model_name_dict[mod]=lgb.LGBMClassifier(**study.best_params)\n",
    "    model_name_dict[mod].fit(X_train.reset_index().drop('Date',axis=1),predict_data[mod][2].reset_index().drop('Date',axis=1).iloc[:,0].ravel())\n",
    "    print(f'{mod} fitted')\n",
    "#model_name_dict[mod].booster_.save_model('ML_experiments/models/'+mod+'_lgb_model.txt')\n"
   ]
  },
  {
   "cell_type": "markdown",
   "metadata": {},
   "source": [
    "## Predict and evaluate"
   ]
  },
  {
   "cell_type": "code",
   "execution_count": 20,
   "metadata": {},
   "outputs": [
    {
     "name": "stderr",
     "output_type": "stream",
     "text": [
      "Value based partial slicing on non-monotonic DatetimeIndexes with non-existing keys is deprecated and will raise a KeyError in a future Version.\n"
     ]
    }
   ],
   "source": [
    "test_data=test_data.loc[dates['test_start']:dates['test_end']]"
   ]
  },
  {
   "cell_type": "code",
   "execution_count": 33,
   "metadata": {},
   "outputs": [
    {
     "name": "stdout",
     "output_type": "stream",
     "text": [
      "lgb_1 positions calculated\n",
      "lgb_1 returns calculated\n"
     ]
    }
   ],
   "source": [
    "rets_dict={}\n",
    "pos_dict={}\n",
    "performance_stats_ml=pd.DataFrame(dtype=np.float64)\n",
    "for mod in model_names:\n",
    "    final_pos=stock_closes_rets_df.copy().loc[dates['test_start']:dates['test_end']]\n",
    "    pos=pd.DataFrame(dtype=np.float64)\n",
    "    for t in s_and_p:\n",
    "        df=test_data.loc[test_data['ticker']==t]\n",
    "        df=df.drop(drops,axis=1)\n",
    "        y_pred=model_name_dict[mod].predict(df)\n",
    "        y_pred=(\n",
    "            pd.DataFrame(y_pred,index=df.index.values,columns=[t+' Position'])\n",
    "            .shift(1)\n",
    "        )\n",
    "        pos=pd.concat([pos,y_pred],axis=1)\n",
    "    final_pos=pd.concat([pos,final_pos],axis=1)\n",
    "    pos_dict[mod]=final_pos\n",
    "    print(f'{mod} positions calculated')\n",
    "    rets=pos_to_return(final_pos, tickers=s_and_p, start=dates['test_start'], end=dates['test_end'],  hold_len=1)\n",
    "    rets[rets.isna()] = 0\n",
    "    rets_dict[mod]=rets\n",
    "    print(f'{mod} returns calculated')\n",
    "    perf_values=pd.DataFrame({\n",
    "        'Sharpe':empyrical.sharpe_ratio(rets),\n",
    "        'Sortino':empyrical.sortino_ratio(rets),\n",
    "        'alpha':empyrical.alpha(rets,bnh_returns_df),\n",
    "        'beta':empyrical.beta(rets,bnh_returns_df)\n",
    "    },index=[f'{mod}'])\n",
    "    performance_stats_ml=pd.concat([performance_stats_ml,perf_values])"
   ]
  },
  {
   "cell_type": "code",
   "execution_count": 34,
   "metadata": {},
   "outputs": [
    {
     "name": "stdout",
     "output_type": "stream",
     "text": [
      "            Sharpe   Sortino    alpha      beta\n",
      "Strategy                                       \n",
      "lgb_1     1.050135  1.493223  0.02055  1.001086\n",
      "bnh       0.952194  1.354368        -         -\n"
     ]
    }
   ],
   "source": [
    "bnh_perf=pd.DataFrame({\n",
    "        'Sharpe':empyrical.sharpe_ratio(bnh_returns_df.loc[dates['test_start']: dates['test_end']]),\n",
    "        'Sortino':empyrical.sortino_ratio(bnh_returns_df.loc[dates['test_start']: dates['test_end']]),\n",
    "        'alpha':'-',\n",
    "        'beta':'-'\n",
    "    },index=['bnh'])\n",
    "bnh_perf.to_csv('ML_experiments/Sharpe_vals/bnh_performance.csv')\n",
    "performance_stats_for_csv=pd.concat([performance_stats_ml,bnh_perf])\n",
    "performance_stats_for_csv.index.name='Strategy'\n",
    "\n",
    "print(performance_stats_for_csv)"
   ]
  },
  {
   "cell_type": "code",
   "execution_count": 39,
   "metadata": {},
   "outputs": [
    {
     "name": "stdout",
     "output_type": "stream",
     "text": [
      "\\begin{tabular}{lrrll}\n",
      "\\toprule\n",
      "{} &    Sharpe &   Sortino &    alpha &      beta \\\\\n",
      "Strategy &           &           &          &           \\\\\n",
      "\\midrule\n",
      "lgb\\_1    &  1.050135 &  1.493223 &  0.02055 &  1.001086 \\\\\n",
      "bnh      &  0.952194 &  1.354368 &        - &         - \\\\\n",
      "\\bottomrule\n",
      "\\end{tabular}\n",
      "\n"
     ]
    },
    {
     "name": "stderr",
     "output_type": "stream",
     "text": [
      "In future versions `DataFrame.to_latex` is expected to utilise the base implementation of `Styler.to_latex` for formatting and rendering. The arguments signature may therefore change. It is recommended instead to use `DataFrame.style.to_latex` which also contains additional functionality.\n"
     ]
    }
   ],
   "source": [
    "print(performance_stats_for_csv.to_latex())"
   ]
  },
  {
   "cell_type": "markdown",
   "metadata": {},
   "source": [
    "## Shap values"
   ]
  },
  {
   "cell_type": "code",
   "execution_count": 27,
   "metadata": {},
   "outputs": [],
   "source": [
    "X_shaps=X_train.sample(n=10000,random_state=31415)"
   ]
  },
  {
   "cell_type": "code",
   "execution_count": null,
   "metadata": {},
   "outputs": [],
   "source": [
    "model=lgb.Booster(model_file=f'ML_experiments/Models/lgb_1_lgb_model.txt')\n",
    "model.params['objective']='binary'\n",
    "lgb_exp = shap.TreeExplainer(model,X_shaps)\n",
    "shap_values=lgb_exp(X_shaps)\n",
    "shap.summary_plot(shap_values,features=X_shaps,show=False,color_bar=False)\n",
    "cbar=plt.colorbar(aspect=100)\n",
    "cbar.set_ticks([-0.0175,0.0175])\n",
    "cbar.set_ticklabels(['low value','high value'])\n",
    "plt.show()"
   ]
  },
  {
   "cell_type": "markdown",
   "metadata": {},
   "source": [
    "# Options to save model outcomes etc"
   ]
  },
  {
   "cell_type": "code",
   "execution_count": 35,
   "metadata": {},
   "outputs": [],
   "source": [
    "save=False"
   ]
  },
  {
   "cell_type": "code",
   "execution_count": 36,
   "metadata": {},
   "outputs": [],
   "source": [
    "if save==True:\n",
    "    model_names=['lgb_1']\n",
    "    for mod in model_names:\n",
    "        best_param_dict[mod].to_csv(f'ML_experiments/Models/{mod}_params.csv')\n",
    "        model_name_dict[mod].booster_.save_model(f'ML_experiments/Models/{mod}_model.txt')\n",
    "        rets_dict[mod].to_csv(f'ML_experiments/Models/{mod}_returns.csv')\n",
    "        pos_dict[mod].to_csv(f'ML_experiments/Models/{mod}_ret_pos.csv')\n",
    "    performance_stats_for_csv.to_csv(f'ML_experiments/Sharpe_vals/{mod}_performance stats.csv')"
   ]
  }
 ],
 "metadata": {
  "interpreter": {
   "hash": "3e6fd86cbe19291f994be867f6fa989519a34a67c385c3f45fcbfbd76aa041a3"
  },
  "kernelspec": {
   "display_name": "Python 3.9.13 ('tdasp500')",
   "language": "python",
   "name": "python3"
  },
  "language_info": {
   "codemirror_mode": {
    "name": "ipython",
    "version": 3
   },
   "file_extension": ".py",
   "mimetype": "text/x-python",
   "name": "python",
   "nbconvert_exporter": "python",
   "pygments_lexer": "ipython3",
   "version": "3.9.13"
  },
  "orig_nbformat": 4
 },
 "nbformat": 4,
 "nbformat_minor": 2
}
